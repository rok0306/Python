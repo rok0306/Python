{
  "nbformat": 4,
  "nbformat_minor": 0,
  "metadata": {
    "colab": {
      "name": "데이터셋 준비 => 모델생성 => 학습 => 예측",
      "provenance": [],
      "collapsed_sections": [],
      "authorship_tag": "ABX9TyNQlHTgCePsDoRo4ow4KnaO",
      "include_colab_link": true
    },
    "kernelspec": {
      "name": "python3",
      "display_name": "Python 3"
    },
    "language_info": {
      "name": "python"
    }
  },
  "cells": [
    {
      "cell_type": "markdown",
      "metadata": {
        "id": "view-in-github",
        "colab_type": "text"
      },
      "source": [
        "<a href=\"https://colab.research.google.com/github/rok0306/Python/blob/master/%EB%8D%B0%EC%9D%B4%ED%84%B0%EC%85%8B_%EC%A4%80%EB%B9%84_%3D%3E_%EB%AA%A8%EB%8D%B8%EC%83%9D%EC%84%B1_%3D%3E_%ED%95%99%EC%8A%B5_%3D%3E_%EC%98%88%EC%B8%A1.ipynb\" target=\"_parent\"><img src=\"https://colab.research.google.com/assets/colab-badge.svg\" alt=\"Open In Colab\"/></a>"
      ]
    },
    {
      "cell_type": "markdown",
      "metadata": {
        "id": "g9-E-6eAhIIK"
      },
      "source": [
        "텐서플로우를 이용한 딥러닝"
      ]
    },
    {
      "cell_type": "code",
      "metadata": {
        "colab": {
          "base_uri": "https://localhost:8080/"
        },
        "id": "tHICn01GhFkU",
        "outputId": "4eb62cc5-b76f-4d89-ce81-c9ec2134a367"
      },
      "source": [
        "(a1,a2),(b1,b2)=[([3,4],[30,40]),([6,7],[60,70])]\n",
        "print(a1,a2,b1,b2)\n",
        "type(a1)"
      ],
      "execution_count": 2,
      "outputs": [
        {
          "output_type": "stream",
          "text": [
            "[3, 4] [30, 40] [6, 7] [60, 70]\n"
          ],
          "name": "stdout"
        },
        {
          "output_type": "execute_result",
          "data": {
            "text/plain": [
              "list"
            ]
          },
          "metadata": {
            "tags": []
          },
          "execution_count": 2
        }
      ]
    },
    {
      "cell_type": "markdown",
      "metadata": {
        "id": "94c8zc3ig61z"
      },
      "source": [
        "데이터셋 준비 => 모델생성 => 학습 => 예측"
      ]
    },
    {
      "cell_type": "code",
      "metadata": {
        "id": "MzEO7PazaC0p"
      },
      "source": [
        "#tensorflow 와 tf.keras를 임포트\n",
        "import tensorflow as tf\n",
        "from tensorflow import keras\n",
        "import numpy as np\n",
        "import matplotlib.pyplot as plt"
      ],
      "execution_count": 3,
      "outputs": []
    },
    {
      "cell_type": "code",
      "metadata": {
        "colab": {
          "base_uri": "https://localhost:8080/"
        },
        "id": "kmdvDkPgacN_",
        "outputId": "7c036143-ac2b-46fb-956b-66e218e6f2d9"
      },
      "source": [
        "#패션MNIST 데이터는 keras의 데이터셋에 있는 이를 읽어와서 학습용, 테스트 데이터로 구분\n",
        "fashion_mnist = keras.datasets.fashion_mnist\n",
        "print(dir(fashion_mnist))\n",
        "(train_images, train_labels), (test_images, test_labels) = fashion_mnist.load_data()"
      ],
      "execution_count": 4,
      "outputs": [
        {
          "output_type": "stream",
          "text": [
            "['__builtins__', '__cached__', '__doc__', '__file__', '__loader__', '__name__', '__package__', '__path__', '__spec__', '_sys', 'load_data']\n",
            "Downloading data from https://storage.googleapis.com/tensorflow/tf-keras-datasets/train-labels-idx1-ubyte.gz\n",
            "32768/29515 [=================================] - 0s 0us/step\n",
            "Downloading data from https://storage.googleapis.com/tensorflow/tf-keras-datasets/train-images-idx3-ubyte.gz\n",
            "26427392/26421880 [==============================] - 0s 0us/step\n",
            "Downloading data from https://storage.googleapis.com/tensorflow/tf-keras-datasets/t10k-labels-idx1-ubyte.gz\n",
            "8192/5148 [===============================================] - 0s 0us/step\n",
            "Downloading data from https://storage.googleapis.com/tensorflow/tf-keras-datasets/t10k-images-idx3-ubyte.gz\n",
            "4423680/4422102 [==============================] - 0s 0us/step\n"
          ],
          "name": "stdout"
        }
      ]
    },
    {
      "cell_type": "code",
      "metadata": {
        "colab": {
          "base_uri": "https://localhost:8080/"
        },
        "id": "o3TwERWlcMTX",
        "outputId": "639b125f-4b67-4d58-e7a3-060e042cb813"
      },
      "source": [
        "train_images.shape #28*28픽셀크기의 60000 이미지 데이터"
      ],
      "execution_count": 5,
      "outputs": [
        {
          "output_type": "execute_result",
          "data": {
            "text/plain": [
              "(60000, 28, 28)"
            ]
          },
          "metadata": {
            "tags": []
          },
          "execution_count": 5
        }
      ]
    },
    {
      "cell_type": "code",
      "metadata": {
        "colab": {
          "base_uri": "https://localhost:8080/"
        },
        "id": "EctA7ioSekL-",
        "outputId": "d5c6c970-f1d0-4e92-8b52-881762db877c"
      },
      "source": [
        "train_labels.shape #60000개의 라벨"
      ],
      "execution_count": 6,
      "outputs": [
        {
          "output_type": "execute_result",
          "data": {
            "text/plain": [
              "(60000,)"
            ]
          },
          "metadata": {
            "tags": []
          },
          "execution_count": 6
        }
      ]
    },
    {
      "cell_type": "code",
      "metadata": {
        "colab": {
          "base_uri": "https://localhost:8080/"
        },
        "id": "9FtGaUxRemhq",
        "outputId": "19a6e449-3652-4b8a-b8e7-c1fe2dffbc32"
      },
      "source": [
        "train_images[0].shape #이미지 1개의 크기는 28*28픽셀"
      ],
      "execution_count": 7,
      "outputs": [
        {
          "output_type": "execute_result",
          "data": {
            "text/plain": [
              "(28, 28)"
            ]
          },
          "metadata": {
            "tags": []
          },
          "execution_count": 7
        }
      ]
    },
    {
      "cell_type": "code",
      "metadata": {
        "colab": {
          "base_uri": "https://localhost:8080/"
        },
        "id": "7m5zp_aZe03B",
        "outputId": "60850f70-2353-435d-f931-28ef71ad0f81"
      },
      "source": [
        "test_labels.shape"
      ],
      "execution_count": 8,
      "outputs": [
        {
          "output_type": "execute_result",
          "data": {
            "text/plain": [
              "(10000,)"
            ]
          },
          "metadata": {
            "tags": []
          },
          "execution_count": 8
        }
      ]
    },
    {
      "cell_type": "code",
      "metadata": {
        "colab": {
          "base_uri": "https://localhost:8080/"
        },
        "id": "FyrijZ0Oe61i",
        "outputId": "da0b1d8b-c633-49dc-8cd2-bda1ad51b01f"
      },
      "source": [
        "train_labels[:5] #훈련용 데이터의 5개의 레이블 확인 (0~9까지 10까지 종류)"
      ],
      "execution_count": 9,
      "outputs": [
        {
          "output_type": "execute_result",
          "data": {
            "text/plain": [
              "array([9, 0, 0, 3, 0], dtype=uint8)"
            ]
          },
          "metadata": {
            "tags": []
          },
          "execution_count": 9
        }
      ]
    },
    {
      "cell_type": "code",
      "metadata": {
        "colab": {
          "base_uri": "https://localhost:8080/"
        },
        "id": "LAaNH-uqfEc-",
        "outputId": "b01179fb-e366-4d1c-8c37-e86cb9611fb8"
      },
      "source": [
        "np.set_printoptions(linewidth=150)\n",
        "train_images[0] #이미지는 넘파이 배열에 저장되어있음, 한 픽셀은 0~255값"
      ],
      "execution_count": 10,
      "outputs": [
        {
          "output_type": "execute_result",
          "data": {
            "text/plain": [
              "array([[  0,   0,   0,   0,   0,   0,   0,   0,   0,   0,   0,   0,   0,   0,   0,   0,   0,   0,   0,   0,   0,   0,   0,   0,   0,   0,   0,   0],\n",
              "       [  0,   0,   0,   0,   0,   0,   0,   0,   0,   0,   0,   0,   0,   0,   0,   0,   0,   0,   0,   0,   0,   0,   0,   0,   0,   0,   0,   0],\n",
              "       [  0,   0,   0,   0,   0,   0,   0,   0,   0,   0,   0,   0,   0,   0,   0,   0,   0,   0,   0,   0,   0,   0,   0,   0,   0,   0,   0,   0],\n",
              "       [  0,   0,   0,   0,   0,   0,   0,   0,   0,   0,   0,   0,   1,   0,   0,  13,  73,   0,   0,   1,   4,   0,   0,   0,   0,   1,   1,   0],\n",
              "       [  0,   0,   0,   0,   0,   0,   0,   0,   0,   0,   0,   0,   3,   0,  36, 136, 127,  62,  54,   0,   0,   0,   1,   3,   4,   0,   0,   3],\n",
              "       [  0,   0,   0,   0,   0,   0,   0,   0,   0,   0,   0,   0,   6,   0, 102, 204, 176, 134, 144, 123,  23,   0,   0,   0,   0,  12,  10,   0],\n",
              "       [  0,   0,   0,   0,   0,   0,   0,   0,   0,   0,   0,   0,   0,   0, 155, 236, 207, 178, 107, 156, 161, 109,  64,  23,  77, 130,  72,  15],\n",
              "       [  0,   0,   0,   0,   0,   0,   0,   0,   0,   0,   0,   1,   0,  69, 207, 223, 218, 216, 216, 163, 127, 121, 122, 146, 141,  88, 172,  66],\n",
              "       [  0,   0,   0,   0,   0,   0,   0,   0,   0,   1,   1,   1,   0, 200, 232, 232, 233, 229, 223, 223, 215, 213, 164, 127, 123, 196, 229,   0],\n",
              "       [  0,   0,   0,   0,   0,   0,   0,   0,   0,   0,   0,   0,   0, 183, 225, 216, 223, 228, 235, 227, 224, 222, 224, 221, 223, 245, 173,   0],\n",
              "       [  0,   0,   0,   0,   0,   0,   0,   0,   0,   0,   0,   0,   0, 193, 228, 218, 213, 198, 180, 212, 210, 211, 213, 223, 220, 243, 202,   0],\n",
              "       [  0,   0,   0,   0,   0,   0,   0,   0,   0,   1,   3,   0,  12, 219, 220, 212, 218, 192, 169, 227, 208, 218, 224, 212, 226, 197, 209,  52],\n",
              "       [  0,   0,   0,   0,   0,   0,   0,   0,   0,   0,   6,   0,  99, 244, 222, 220, 218, 203, 198, 221, 215, 213, 222, 220, 245, 119, 167,  56],\n",
              "       [  0,   0,   0,   0,   0,   0,   0,   0,   0,   4,   0,   0,  55, 236, 228, 230, 228, 240, 232, 213, 218, 223, 234, 217, 217, 209,  92,   0],\n",
              "       [  0,   0,   1,   4,   6,   7,   2,   0,   0,   0,   0,   0, 237, 226, 217, 223, 222, 219, 222, 221, 216, 223, 229, 215, 218, 255,  77,   0],\n",
              "       [  0,   3,   0,   0,   0,   0,   0,   0,   0,  62, 145, 204, 228, 207, 213, 221, 218, 208, 211, 218, 224, 223, 219, 215, 224, 244, 159,   0],\n",
              "       [  0,   0,   0,   0,  18,  44,  82, 107, 189, 228, 220, 222, 217, 226, 200, 205, 211, 230, 224, 234, 176, 188, 250, 248, 233, 238, 215,   0],\n",
              "       [  0,  57, 187, 208, 224, 221, 224, 208, 204, 214, 208, 209, 200, 159, 245, 193, 206, 223, 255, 255, 221, 234, 221, 211, 220, 232, 246,   0],\n",
              "       [  3, 202, 228, 224, 221, 211, 211, 214, 205, 205, 205, 220, 240,  80, 150, 255, 229, 221, 188, 154, 191, 210, 204, 209, 222, 228, 225,   0],\n",
              "       [ 98, 233, 198, 210, 222, 229, 229, 234, 249, 220, 194, 215, 217, 241,  65,  73, 106, 117, 168, 219, 221, 215, 217, 223, 223, 224, 229,  29],\n",
              "       [ 75, 204, 212, 204, 193, 205, 211, 225, 216, 185, 197, 206, 198, 213, 240, 195, 227, 245, 239, 223, 218, 212, 209, 222, 220, 221, 230,  67],\n",
              "       [ 48, 203, 183, 194, 213, 197, 185, 190, 194, 192, 202, 214, 219, 221, 220, 236, 225, 216, 199, 206, 186, 181, 177, 172, 181, 205, 206, 115],\n",
              "       [  0, 122, 219, 193, 179, 171, 183, 196, 204, 210, 213, 207, 211, 210, 200, 196, 194, 191, 195, 191, 198, 192, 176, 156, 167, 177, 210,  92],\n",
              "       [  0,   0,  74, 189, 212, 191, 175, 172, 175, 181, 185, 188, 189, 188, 193, 198, 204, 209, 210, 210, 211, 188, 188, 194, 192, 216, 170,   0],\n",
              "       [  2,   0,   0,   0,  66, 200, 222, 237, 239, 242, 246, 243, 244, 221, 220, 193, 191, 179, 182, 182, 181, 176, 166, 168,  99,  58,   0,   0],\n",
              "       [  0,   0,   0,   0,   0,   0,   0,  40,  61,  44,  72,  41,  35,   0,   0,   0,   0,   0,   0,   0,   0,   0,   0,   0,   0,   0,   0,   0],\n",
              "       [  0,   0,   0,   0,   0,   0,   0,   0,   0,   0,   0,   0,   0,   0,   0,   0,   0,   0,   0,   0,   0,   0,   0,   0,   0,   0,   0,   0],\n",
              "       [  0,   0,   0,   0,   0,   0,   0,   0,   0,   0,   0,   0,   0,   0,   0,   0,   0,   0,   0,   0,   0,   0,   0,   0,   0,   0,   0,   0]],\n",
              "      dtype=uint8)"
            ]
          },
          "metadata": {
            "tags": []
          },
          "execution_count": 10
        }
      ]
    },
    {
      "cell_type": "code",
      "metadata": {
        "colab": {
          "base_uri": "https://localhost:8080/",
          "height": 53
        },
        "id": "6rruX3T9fSk-",
        "outputId": "0a97b442-659d-4cbc-8cab-8dbc29d651e0"
      },
      "source": [
        "class_names=['T-shirts/top','Trowser','Pullover','Dress','Coat','Sandal','Shirt','Sweater','Bag','Ankle boot']\n",
        "print(train_labels[0])\n",
        "class_names[train_labels[0]] # 라벨에 대응하는 품목이름 출력"
      ],
      "execution_count": 11,
      "outputs": [
        {
          "output_type": "stream",
          "text": [
            "9\n"
          ],
          "name": "stdout"
        },
        {
          "output_type": "execute_result",
          "data": {
            "application/vnd.google.colaboratory.intrinsic+json": {
              "type": "string"
            },
            "text/plain": [
              "'Ankle boot'"
            ]
          },
          "metadata": {
            "tags": []
          },
          "execution_count": 11
        }
      ]
    },
    {
      "cell_type": "code",
      "metadata": {
        "colab": {
          "base_uri": "https://localhost:8080/",
          "height": 265
        },
        "id": "8HpYWC87gBBt",
        "outputId": "b6bf5042-6cdf-4cbb-a878-d72948956d08"
      },
      "source": [
        "plt.imshow(train_images[0])\n",
        "plt.show()"
      ],
      "execution_count": 12,
      "outputs": [
        {
          "output_type": "display_data",
          "data": {
            "image/png": "[encoded data removed]",
            "text/plain": [
              "<Figure size 432x288 with 1 Axes>"
            ]
          },
          "metadata": {
            "tags": [],
            "needs_background": "light"
          }
        }
      ]
    },
    {
      "cell_type": "code",
      "metadata": {
        "colab": {
          "base_uri": "https://localhost:8080/",
          "height": 149
        },
        "id": "Y-vpaLK8gLWt",
        "outputId": "a3edd808-318b-4ee8-8379-3f56f5b9346f"
      },
      "source": [
        "fig=plt.figure()\n",
        "ax1=fig.add_subplot(1,3,1) # 1행3열의 1번쨰위치에 배치\n",
        "ax2=fig.add_subplot(1,3,2)\n",
        "ax3=fig.add_subplot(1,3,3)\n",
        "ax1.imshow(train_images[0]) # 첫 번째 훈련용 데이터\n",
        "ax2.imshow(train_images[1]) # 두 번째 훈련용 데이터\n",
        "ax3.imshow(train_images[2]) # 세 번째 훈련용 데이터\n",
        "plt.show()"
      ],
      "execution_count": 13,
      "outputs": [
        {
          "output_type": "display_data",
          "data": {
            "image/png": "[encoded data removed]",
            "text/plain": [
              "<Figure size 432x288 with 3 Axes>"
            ]
          },
          "metadata": {
            "tags": [],
            "needs_background": "light"
          }
        }
      ]
    },
    {
      "cell_type": "markdown",
      "metadata": {
        "id": "VZ9RVVyNQQfw"
      },
      "source": [
        "딥러닝 인공 신경망을 구축해보자"
      ]
    },
    {
      "cell_type": "code",
      "metadata": {
        "id": "O0CL6a_LQCJ3"
      },
      "source": [
        "# keras에 있는 Sequetial 모델을 만들어서 Flatten 한줄로 늘어놓고 DEnse층에 넣고 relu라는 비선형함수를 통과해서 나옴\n",
        "# 입력레이어, 히든 레이어, 출력 레이어로 구성\n",
        "model = keras.Sequential([\n",
        "                          keras.layers.Flatten(input_shape=(28,28)), # Flatten 계층, 784(28*28)인 1차원 배열로 바꿔줌, 외부임력을 신경망으로 가져오는 역할\n",
        "                          keras.layers.Dense(128,activation='relu'), # 히든레이어, 노드개수가 128개인 Dense 계층 활성화 relu 활성화 함수 사용 계층을 더 추가해 보자\n",
        "                          keras.layers.Dense(10,activation='softmax') # 출력레이어, 신경망의 출력을 외부로 전달, Dense 계층 활성화 sdftmax 활성화 함수 사용\n",
        "]) # 노드개수 10개의 노드 출력값의 합이 1이 되도록 조정 됨."
      ],
      "execution_count": 15,
      "outputs": []
    },
    {
      "cell_type": "markdown",
      "metadata": {
        "id": "k6k2vWboQUqI"
      },
      "source": [
        "인공 신경망을 학습시켜보자 : 최적화와 에폭"
      ]
    },
    {
      "cell_type": "code",
      "metadata": {
        "id": "_DebR_poQT4Y"
      },
      "source": [
        "model.compile(optimizer='adam', # adam(adaptive moment estimation)최적화 기법 사용\n",
        "              loss='sparse_categorical_crossentropy', # 손실함수\n",
        "              metrics=['accuracy'])"
      ],
      "execution_count": 16,
      "outputs": []
    },
    {
      "cell_type": "code",
      "metadata": {
        "colab": {
          "base_uri": "https://localhost:8080/"
        },
        "id": "ofOSwVRKQ5vn",
        "outputId": "5e6d92da-118a-40e9-e1d1-72bd5e78e7c5"
      },
      "source": [
        "# 훈련 데이터 모음을 가지고 한 번 훈련을 실시하는 것을 에폭(epoch)이라고 부름, 훈련을 5차례 실시\n",
        "# 에폭 단계마다 손실값과 정확히 출력됨, 훈련이 진행될수록 손실값은 줄어들고 예측의 정확도는 증가함\n",
        "model.fit(train_images, train_labels, epochs=5)"
      ],
      "execution_count": 17,
      "outputs": [
        {
          "output_type": "stream",
          "text": [
            "Epoch 1/5\n",
            "1875/1875 [==============================] - 5s 2ms/step - loss: 3.1700 - accuracy: 0.7187\n",
            "Epoch 2/5\n",
            "1875/1875 [==============================] - 4s 2ms/step - loss: 0.6285 - accuracy: 0.7850\n",
            "Epoch 3/5\n",
            "1875/1875 [==============================] - 4s 2ms/step - loss: 0.5422 - accuracy: 0.8118\n",
            "Epoch 4/5\n",
            "1875/1875 [==============================] - 4s 2ms/step - loss: 0.5121 - accuracy: 0.8257\n",
            "Epoch 5/5\n",
            "1875/1875 [==============================] - 4s 2ms/step - loss: 0.4950 - accuracy: 0.8327\n"
          ],
          "name": "stdout"
        },
        {
          "output_type": "execute_result",
          "data": {
            "text/plain": [
              "<tensorflow.python.keras.callbacks.History at 0x7f3973005550>"
            ]
          },
          "metadata": {
            "tags": []
          },
          "execution_count": 17
        }
      ]
    },
    {
      "cell_type": "code",
      "metadata": {
        "colab": {
          "base_uri": "https://localhost:8080/"
        },
        "id": "TF_CvFW-RV_v",
        "outputId": "827c0271-8131-4a6b-974f-f2c31612fd42"
      },
      "source": [
        "# 평가 \n",
        "test_loss, test_acc = model.evaluate(test_images, test_labels, verbose=2)\n",
        "print(\"Wn 테스트 :\", test_acc)"
      ],
      "execution_count": 19,
      "outputs": [
        {
          "output_type": "stream",
          "text": [
            "313/313 - 0s - loss: 0.5504 - accuracy: 0.8239\n",
            "Wn 테스트 : 0.8238999843597412\n"
          ],
          "name": "stdout"
        }
      ]
    },
    {
      "cell_type": "markdown",
      "metadata": {
        "id": "Wzej2Ac_R4yJ"
      },
      "source": [
        "학습된 신경망을 새 이미지에 적용해 보자"
      ]
    },
    {
      "cell_type": "code",
      "metadata": {
        "colab": {
          "base_uri": "https://localhost:8080/",
          "height": 282
        },
        "id": "Bf50pQDkRtCL",
        "outputId": "215c1b0f-9e6c-405e-c4b1-ed474e13dc05"
      },
      "source": [
        "img=test_images[33]\n",
        "label=test_labels[33]\n",
        "img.shape # 테스트 이미지가 2차원 배열임을 확인합\n",
        "plt.imshow(test_images[33])"
      ],
      "execution_count": 20,
      "outputs": [
        {
          "output_type": "execute_result",
          "data": {
            "text/plain": [
              "<matplotlib.image.AxesImage at 0x7f396fa6cb50>"
            ]
          },
          "metadata": {
            "tags": []
          },
          "execution_count": 20
        },
        {
          "output_type": "display_data",
          "data": {
            "image/png": "[encoded data removed]",
            "text/plain": [
              "<Figure size 432x288 with 1 Axes>"
            ]
          },
          "metadata": {
            "tags": [],
            "needs_background": "light"
          }
        }
      ]
    },
    {
      "cell_type": "code",
      "metadata": {
        "colab": {
          "base_uri": "https://localhost:8080/"
        },
        "id": "oyuPxCpwSMsx",
        "outputId": "62e75a1f-2548-40cd-b708-5fc9924faca3"
      },
      "source": [
        "img1=np.around(test_images[33]/255,1)\n",
        "img1"
      ],
      "execution_count": 27,
      "outputs": [
        {
          "output_type": "execute_result",
          "data": {
            "text/plain": [
              "array([[0. , 0. , 0. , 0. , 0. , 0. , 0. , 0. , 0. , 0.1, 0. , 0. , 0. , 0. , 0. , 0. , 0. , 0. , 0.2, 0. , 0. , 0. , 0. , 0. , 0. , 0. , 0. , 0. ],\n",
              "       [0. , 0. , 0. , 0. , 0. , 0. , 0. , 0. , 0.2, 0.6, 0.3, 0. , 0. , 0. , 0. , 0. , 0. , 0. , 0.6, 0.5, 0. , 0. , 0. , 0. , 0. , 0. , 0. , 0. ],\n",
              "       [0. , 0. , 0. , 0. , 0. , 0. , 0. , 0. , 0. , 0. , 0. , 0. , 0. , 0. , 0. , 0. , 0. , 0. , 0.2, 0.1, 0.3, 0. , 0. , 0. , 0. , 0. , 0. , 0. ],\n",
              "       [0. , 0. , 0. , 0. , 0. , 0. , 0. , 0.2, 0.2, 0.4, 0.7, 0.8, 0.9, 0.9, 0.9, 0.8, 0.9, 0.7, 0.7, 0.2, 0.5, 0. , 0. , 0. , 0. , 0. , 0. , 0. ],\n",
              "       [0. , 0. , 0. , 0. , 0. , 0. , 0. , 0.6, 0.9, 0.9, 0.8, 0.8, 0.7, 0.7, 0.8, 0.7, 0.7, 0.8, 0.8, 0.9, 0.8, 0.1, 0. , 0. , 0. , 0. , 0. , 0. ],\n",
              "       [0. , 0. , 0. , 0. , 0. , 0. , 0. , 0.7, 0.8, 0.7, 0.8, 0.9, 0.5, 0.7, 0.8, 0.9, 0.6, 0.6, 0.8, 0.9, 0.9, 0.2, 0. , 0. , 0. , 0. , 0. , 0. ],\n",
              "       [0. , 0. , 0. , 0. , 0. , 0. , 0. , 0.7, 0.8, 0.9, 0.9, 0.8, 0.6, 0.8, 0.6, 0.7, 0.9, 0.8, 0.8, 0.8, 0.8, 0.3, 0. , 0. , 0. , 0. , 0. , 0. ],\n",
              "       [0. , 0. , 0. , 0. , 0. , 0. , 0. , 0.8, 0.9, 0.8, 0.8, 0.9, 0.7, 0.7, 0.7, 0.8, 0.8, 0.8, 0.8, 0.9, 0.8, 0.4, 0. , 0. , 0. , 0. , 0. , 0. ],\n",
              "       [0. , 0. , 0. , 0. , 0. , 0. , 0. , 1. , 0.8, 0.6, 0.7, 0.9, 0.8, 0.9, 0.9, 0.7, 0.8, 0.8, 0.7, 1. , 0.7, 0.4, 0. , 0. , 0. , 0. , 0. , 0. ],\n",
              "       [0. , 0. , 0. , 0. , 0. , 0. , 0. , 0.9, 0.7, 0.5, 0.6, 0.8, 0.7, 0.9, 0.8, 0.6, 0.8, 0.7, 0.7, 1. , 0.8, 0.5, 0. , 0. , 0. , 0. , 0. , 0. ],\n",
              "       [0. , 0. , 0. , 0. , 0. , 0. , 0.2, 0.8, 0.8, 0.6, 0.8, 0.9, 0.6, 0.7, 0.8, 0.6, 0.8, 0.9, 0.6, 0.9, 0.8, 0.6, 0. , 0. , 0. , 0. , 0. , 0. ],\n",
              "       [0. , 0. , 0. , 0. , 0. , 0. , 0.6, 0.8, 0.9, 0.9, 0.8, 0.6, 0.7, 0.8, 0.9, 0.6, 0.7, 0.8, 0.5, 0.7, 0.8, 0.9, 0. , 0. , 0. , 0. , 0. , 0. ],\n",
              "       [0. , 0. , 0. , 0. , 0. , 0. , 0.9, 0.9, 0.9, 0.9, 0.8, 0.8, 0.8, 0.9, 0.9, 0.5, 0.7, 0.8, 0.9, 1. , 0.7, 0.9, 0.2, 0. , 0. , 0. , 0. , 0. ],\n",
              "       [0. , 0. , 0. , 0. , 0. , 0. , 0.8, 0.9, 0.9, 0.8, 0.6, 0.9, 1. , 0.7, 0.8, 1. , 0.8, 0.8, 0.8, 0.9, 0.8, 0.8, 0.4, 0. , 0. , 0. , 0. , 0. ],\n",
              "       [0. , 0. , 0. , 0. , 0. , 0.2, 0.9, 0.8, 1. , 0.8, 0.6, 0.6, 0.9, 0.8, 0.6, 0.9, 1. , 0.6, 0.8, 1. , 0.9, 0.9, 0.7, 0. , 0. , 0. , 0. , 0. ],\n",
              "       [0. , 0. , 0. , 0. , 0. , 0.1, 0.3, 0. , 0.1, 0.8, 0.7, 0.6, 0.8, 0.9, 0.5, 0.8, 0.8, 0.7, 0.8, 0.4, 0. , 0. , 0. , 0. , 0. , 0. , 0. , 0. ],\n",
              "       [0. , 0. , 0. , 0. , 0. , 0. , 0. , 0. , 0. , 0.9, 0.8, 0.9, 0.9, 0.9, 0.7, 1. , 0.7, 0.7, 0.9, 0.3, 0. , 0. , 0. , 0. , 0. , 0. , 0. , 0. ],\n",
              "       [0. , 0. , 0. , 0. , 0. , 0. , 0. , 0. , 0. , 1. , 0.9, 0.7, 0.8, 0.8, 0.9, 1. , 0.7, 0.5, 0.8, 0.5, 0. , 0. , 0. , 0. , 0. , 0. , 0. , 0. ],\n",
              "       [0. , 0. , 0. , 0. , 0. , 0. , 0. , 0. , 0. , 0.8, 0.8, 0.7, 0.7, 0.6, 0.8, 0.9, 0.7, 0.7, 0.8, 0.5, 0. , 0. , 0. , 0. , 0. , 0. , 0. , 0. ],\n",
              "       [0. , 0. , 0. , 0. , 0. , 0. , 0. , 0. , 0.1, 0.9, 0.8, 0.8, 0.8, 0.8, 0.8, 1. , 0.9, 0.8, 0.9, 0.5, 0. , 0. , 0. , 0. , 0. , 0. , 0. , 0. ],\n",
              "       [0. , 0. , 0. , 0. , 0. , 0. , 0. , 0. , 0.1, 0.9, 0.8, 0.9, 0.8, 1. , 0.8, 0.9, 0.9, 0.9, 0.9, 0.6, 0. , 0. , 0. , 0. , 0. , 0. , 0. , 0. ],\n",
              "       [0. , 0. , 0. , 0. , 0. , 0. , 0. , 0. , 0.3, 0.9, 0.8, 0.9, 0.9, 0.9, 0.8, 0.9, 0.7, 0.8, 0.9, 0.9, 0. , 0. , 0. , 0. , 0. , 0. , 0. , 0. ],\n",
              "       [0. , 0. , 0. , 0. , 0. , 0. , 0. , 0. , 0.3, 0.9, 0.9, 0.8, 0.7, 1. , 0.7, 1. , 0.8, 0.8, 0.8, 1. , 0. , 0. , 0. , 0. , 0. , 0. , 0. , 0. ],\n",
              "       [0. , 0. , 0. , 0. , 0. , 0. , 0. , 0. , 0.4, 1. , 0.9, 0.8, 0.8, 0.9, 0.8, 1. , 0.6, 0.7, 0.9, 0.9, 0. , 0. , 0. , 0. , 0. , 0. , 0. , 0. ],\n",
              "       [0. , 0. , 0. , 0. , 0. , 0. , 0. , 0. , 0.6, 1. , 0.9, 0.8, 0.9, 0.9, 0.8, 1. , 0.7, 0.8, 0.9, 0.8, 0. , 0. , 0. , 0. , 0. , 0. , 0. , 0. ],\n",
              "       [0. , 0. , 0. , 0. , 0. , 0. , 0. , 0. , 0.5, 0.9, 0.9, 0.9, 0.8, 1. , 0.9, 0.9, 0.9, 0.9, 0.8, 0.8, 0. , 0. , 0. , 0. , 0. , 0. , 0. , 0. ],\n",
              "       [0. , 0. , 0. , 0. , 0. , 0. , 0. , 0. , 0.9, 0.9, 0.9, 1. , 1. , 0.9, 0.9, 1. , 1. , 0.9, 0.9, 0.9, 0.1, 0. , 0. , 0. , 0. , 0. , 0. , 0. ],\n",
              "       [0. , 0. , 0. , 0. , 0. , 0. , 0. , 0. , 0.4, 0.4, 0.2, 0. , 0.1, 0.2, 0.3, 0.1, 0.2, 0.2, 0.4, 0.7, 0.1, 0. , 0. , 0. , 0. , 0. , 0. , 0. ]])"
            ]
          },
          "metadata": {
            "tags": []
          },
          "execution_count": 27
        }
      ]
    },
    {
      "cell_type": "code",
      "metadata": {
        "colab": {
          "base_uri": "https://localhost:8080/"
        },
        "id": "R69ZyGMMSV2d",
        "outputId": "3c21e783-6a65-4485-a95e-31e26cd22768"
      },
      "source": [
        "img=np.expand_dims(img,axis=0)# 0번째 차원 추가\n",
        "img.shape"
      ],
      "execution_count": 23,
      "outputs": [
        {
          "output_type": "execute_result",
          "data": {
            "text/plain": [
              "(1, 28, 28)"
            ]
          },
          "metadata": {
            "tags": []
          },
          "execution_count": 23
        }
      ]
    },
    {
      "cell_type": "code",
      "metadata": {
        "colab": {
          "base_uri": "https://localhost:8080/"
        },
        "id": "dvI5F17BSlhN",
        "outputId": "9de422fc-3900-4020-c194-e5c725683376"
      },
      "source": [
        "img"
      ],
      "execution_count": 28,
      "outputs": [
        {
          "output_type": "execute_result",
          "data": {
            "text/plain": [
              "array([[[0., 0., 0., 0., 0., 0., 0., 0., 0., 0., 0., 0., 0., 0., 0., 0., 0., 0., 0., 0., 0., 0., 0., 0., 0., 0., 0., 0.],\n",
              "        [0., 0., 0., 0., 0., 0., 0., 0., 0., 1., 0., 0., 0., 0., 0., 0., 0., 0., 1., 1., 0., 0., 0., 0., 0., 0., 0., 0.],\n",
              "        [0., 0., 0., 0., 0., 0., 0., 0., 0., 0., 0., 0., 0., 0., 0., 0., 0., 0., 0., 0., 0., 0., 0., 0., 0., 0., 0., 0.],\n",
              "        [0., 0., 0., 0., 0., 0., 0., 0., 0., 0., 1., 1., 1., 1., 1., 1., 1., 1., 1., 0., 0., 0., 0., 0., 0., 0., 0., 0.],\n",
              "        [0., 0., 0., 0., 0., 0., 0., 1., 1., 1., 1., 1., 1., 1., 1., 1., 1., 1., 1., 1., 1., 0., 0., 0., 0., 0., 0., 0.],\n",
              "        [0., 0., 0., 0., 0., 0., 0., 1., 1., 1., 1., 1., 1., 1., 1., 1., 1., 1., 1., 1., 1., 0., 0., 0., 0., 0., 0., 0.],\n",
              "        [0., 0., 0., 0., 0., 0., 0., 1., 1., 1., 1., 1., 1., 1., 1., 1., 1., 1., 1., 1., 1., 0., 0., 0., 0., 0., 0., 0.],\n",
              "        [0., 0., 0., 0., 0., 0., 0., 1., 1., 1., 1., 1., 1., 1., 1., 1., 1., 1., 1., 1., 1., 0., 0., 0., 0., 0., 0., 0.],\n",
              "        [0., 0., 0., 0., 0., 0., 0., 1., 1., 1., 1., 1., 1., 1., 1., 1., 1., 1., 1., 1., 1., 0., 0., 0., 0., 0., 0., 0.],\n",
              "        [0., 0., 0., 0., 0., 0., 0., 1., 1., 1., 1., 1., 1., 1., 1., 1., 1., 1., 1., 1., 1., 0., 0., 0., 0., 0., 0., 0.],\n",
              "        [0., 0., 0., 0., 0., 0., 0., 1., 1., 1., 1., 1., 1., 1., 1., 1., 1., 1., 1., 1., 1., 1., 0., 0., 0., 0., 0., 0.],\n",
              "        [0., 0., 0., 0., 0., 0., 1., 1., 1., 1., 1., 1., 1., 1., 1., 1., 1., 1., 1., 1., 1., 1., 0., 0., 0., 0., 0., 0.],\n",
              "        [0., 0., 0., 0., 0., 0., 1., 1., 1., 1., 1., 1., 1., 1., 1., 1., 1., 1., 1., 1., 1., 1., 0., 0., 0., 0., 0., 0.],\n",
              "        [0., 0., 0., 0., 0., 0., 1., 1., 1., 1., 1., 1., 1., 1., 1., 1., 1., 1., 1., 1., 1., 1., 0., 0., 0., 0., 0., 0.],\n",
              "        [0., 0., 0., 0., 0., 0., 1., 1., 1., 1., 1., 1., 1., 1., 1., 1., 1., 1., 1., 1., 1., 1., 1., 0., 0., 0., 0., 0.],\n",
              "        [0., 0., 0., 0., 0., 0., 0., 0., 0., 1., 1., 1., 1., 1., 1., 1., 1., 1., 1., 0., 0., 0., 0., 0., 0., 0., 0., 0.],\n",
              "        [0., 0., 0., 0., 0., 0., 0., 0., 0., 1., 1., 1., 1., 1., 1., 1., 1., 1., 1., 0., 0., 0., 0., 0., 0., 0., 0., 0.],\n",
              "        [0., 0., 0., 0., 0., 0., 0., 0., 0., 1., 1., 1., 1., 1., 1., 1., 1., 0., 1., 0., 0., 0., 0., 0., 0., 0., 0., 0.],\n",
              "        [0., 0., 0., 0., 0., 0., 0., 0., 0., 1., 1., 1., 1., 1., 1., 1., 1., 1., 1., 0., 0., 0., 0., 0., 0., 0., 0., 0.],\n",
              "        [0., 0., 0., 0., 0., 0., 0., 0., 0., 1., 1., 1., 1., 1., 1., 1., 1., 1., 1., 0., 0., 0., 0., 0., 0., 0., 0., 0.],\n",
              "        [0., 0., 0., 0., 0., 0., 0., 0., 0., 1., 1., 1., 1., 1., 1., 1., 1., 1., 1., 1., 0., 0., 0., 0., 0., 0., 0., 0.],\n",
              "        [0., 0., 0., 0., 0., 0., 0., 0., 0., 1., 1., 1., 1., 1., 1., 1., 1., 1., 1., 1., 0., 0., 0., 0., 0., 0., 0., 0.],\n",
              "        [0., 0., 0., 0., 0., 0., 0., 0., 0., 1., 1., 1., 1., 1., 1., 1., 1., 1., 1., 1., 0., 0., 0., 0., 0., 0., 0., 0.],\n",
              "        [0., 0., 0., 0., 0., 0., 0., 0., 0., 1., 1., 1., 1., 1., 1., 1., 1., 1., 1., 1., 0., 0., 0., 0., 0., 0., 0., 0.],\n",
              "        [0., 0., 0., 0., 0., 0., 0., 0., 1., 1., 1., 1., 1., 1., 1., 1., 1., 1., 1., 1., 0., 0., 0., 0., 0., 0., 0., 0.],\n",
              "        [0., 0., 0., 0., 0., 0., 0., 0., 1., 1., 1., 1., 1., 1., 1., 1., 1., 1., 1., 1., 0., 0., 0., 0., 0., 0., 0., 0.],\n",
              "        [0., 0., 0., 0., 0., 0., 0., 0., 1., 1., 1., 1., 1., 1., 1., 1., 1., 1., 1., 1., 0., 0., 0., 0., 0., 0., 0., 0.],\n",
              "        [0., 0., 0., 0., 0., 0., 0., 0., 0., 0., 0., 0., 0., 0., 0., 0., 0., 0., 0., 1., 0., 0., 0., 0., 0., 0., 0., 0.]]])"
            ]
          },
          "metadata": {
            "tags": []
          },
          "execution_count": 28
        }
      ]
    },
    {
      "cell_type": "code",
      "metadata": {
        "colab": {
          "base_uri": "https://localhost:8080/"
        },
        "id": "CZiizC-8TAHr",
        "outputId": "346b63a7-b5e1-4229-8ef3-e48a640d5cdc"
      },
      "source": [
        "test_images.shape"
      ],
      "execution_count": 29,
      "outputs": [
        {
          "output_type": "execute_result",
          "data": {
            "text/plain": [
              "(10000, 28, 28)"
            ]
          },
          "metadata": {
            "tags": []
          },
          "execution_count": 29
        }
      ]
    },
    {
      "cell_type": "code",
      "metadata": {
        "colab": {
          "base_uri": "https://localhost:8080/"
        },
        "id": "1jINPVnnTCzs",
        "outputId": "4997f445-f1a8-4618-b228-a096190dc82f"
      },
      "source": [
        "predic=model.predict(img)\n",
        "print(predic)\n",
        "print(np.argmax(predic))\n",
        "print(class_names[np.argmax(predic)])"
      ],
      "execution_count": 30,
      "outputs": [
        {
          "output_type": "stream",
          "text": [
            "[[0.09160748 0.04161294 0.16707279 0.15852578 0.11576917 0.08749733 0.12133732 0.07267091 0.1214079  0.02249842]]\n",
            "2\n",
            "Pullover\n"
          ],
          "name": "stdout"
        }
      ]
    },
    {
      "cell_type": "code",
      "metadata": {
        "colab": {
          "base_uri": "https://localhost:8080/",
          "height": 282
        },
        "id": "7q6henN1Ta7V",
        "outputId": "168717c6-375d-459f-b306-593babddcfc9"
      },
      "source": [
        "import numpy as np\n",
        "randldx=np.random.randint(0,1000) #0에서 1000사이의 임의 수 발생시켜 테스트 이미지 선택\n",
        "plt.imshow(test_images[randldx])"
      ],
      "execution_count": 31,
      "outputs": [
        {
          "output_type": "execute_result",
          "data": {
            "text/plain": [
              "<matplotlib.image.AxesImage at 0x7f396eee1f90>"
            ]
          },
          "metadata": {
            "tags": []
          },
          "execution_count": 31
        },
        {
          "output_type": "display_data",
          "data": {
            "image/png": "[encoded data removed]",
            "text/plain": [
              "<Figure size 432x288 with 1 Axes>"
            ]
          },
          "metadata": {
            "tags": [],
            "needs_background": "light"
          }
        }
      ]
    },
    {
      "cell_type": "code",
      "metadata": {
        "colab": {
          "base_uri": "https://localhost:8080/"
        },
        "id": "fP7cDX9TTs4m",
        "outputId": "5031a2fa-88dc-4aa1-c650-c886dad4645c"
      },
      "source": [
        "yhat = model.predict(test_images[randldx][np.newaxis,:,:])\n",
        "print(yhat)\n",
        "yhat=np.argmax(yhat) # 10개의 출력 값 중 가장 큰 값을 출력\n",
        "print(yhat)"
      ],
      "execution_count": 32,
      "outputs": [
        {
          "output_type": "stream",
          "text": [
            "[[1.19574295e-04 3.40834981e-06 2.63698079e-04 2.51089538e-10 5.92273391e-05 1.60632972e-02 1.08988285e-01 1.43771866e-08 8.74502361e-01\n",
            "  1.06324940e-07]]\n",
            "8\n"
          ],
          "name": "stdout"
        }
      ]
    }
  ]
}