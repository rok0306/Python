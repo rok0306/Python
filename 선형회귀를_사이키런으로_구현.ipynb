{
  "nbformat": 4,
  "nbformat_minor": 0,
  "metadata": {
    "colab": {
      "name": "선형회귀를 사이키런으로 구현",
      "provenance": [],
      "collapsed_sections": [],
      "authorship_tag": "ABX9TyMHVmr7sdUh0bYLPkmrY8Dk",
      "include_colab_link": true
    },
    "kernelspec": {
      "name": "python3",
      "display_name": "Python 3"
    },
    "language_info": {
      "name": "python"
    }
  },
  "cells": [
    {
      "cell_type": "markdown",
      "metadata": {
        "id": "view-in-github",
        "colab_type": "text"
      },
      "source": [
        "<a href=\"https://colab.research.google.com/github/rok0306/Python/blob/master/%EC%84%A0%ED%98%95%ED%9A%8C%EA%B7%80%EB%A5%BC_%EC%82%AC%EC%9D%B4%ED%82%A4%EB%9F%B0%EC%9C%BC%EB%A1%9C_%EA%B5%AC%ED%98%84.ipynb\" target=\"_parent\"><img src=\"https://colab.research.google.com/assets/colab-badge.svg\" alt=\"Open In Colab\"/></a>"
      ]
    },
    {
      "cell_type": "code",
      "metadata": {
        "id": "GW3-j29BVQlF"
      },
      "source": [
        "import numpy as np\n",
        "from sklearn import linear_model # scikit-learn 모듈을 가져온다.\n",
        "regr = linear_model.LinearRegression() # sklearn 선형회귀 모델 생성기 :regr"
      ],
      "execution_count": null,
      "outputs": []
    },
    {
      "cell_type": "code",
      "metadata": {
        "colab": {
          "base_uri": "https://localhost:8080/"
        },
        "id": "IPyInW6rV35r",
        "outputId": "1b693788-dd65-4075-eb70-e753a2f69601"
      },
      "source": [
        "x=[[164],[179],[162],[170]] # 다중회귀에도 사용하도록 함, 입력값은 반드시 2차원 배열\n",
        "y=[53,63,55,59]             # y=f(x)의 결과, y는 목표(target)값\n",
        "#선형회귀 모델을 생성하는 함수로 입력벡터 x를 목표값 y에 최적화시키는(fitting)모델을 만든다.모델 생성기\n",
        "regr.fit(x,y)\n",
        "coef=regr.coef_           # 직선의 기울기\n",
        "intercept=regr.intercept_ # 직선의 절편\n",
        "score=regr.score(x,y)     # 학습된 직선이 데이터를 얼마나 잘 예측하는 가 점수\n",
        "print(\"y=\",coef, \"*+\", intercept)\n",
        "print(\"The socre of this line for data : \",score)"
      ],
      "execution_count": null,
      "outputs": [
        {
          "output_type": "stream",
          "text": [
            "y= [0.55221745] *+ -35.686695278969964\n",
            "The socre of this line for data :  0.903203123105647\n"
          ],
          "name": "stdout"
        }
      ]
    },
    {
      "cell_type": "code",
      "metadata": {
        "colab": {
          "base_uri": "https://localhost:8080/"
        },
        "id": "aQelGeS3W5FM",
        "outputId": "ac6e8ef5-8639-4849-b584-23259fc16171"
      },
      "source": [
        "# 우리가 생성한 regr 선형회귀 모델이 몸무게를 어떻게 예측하여 알아보고자 입력 데이터를 준비한다.\n",
        "input_data=[[180],[185]]\n",
        "# 선형 회귀 모델 regr의 predict함수를 사용하여 예측\n",
        "result=regr.predict(input_data)\n",
        "print(result)\n",
        "# print(type(result))"
      ],
      "execution_count": null,
      "outputs": [
        {
          "output_type": "stream",
          "text": [
            "[63.71244635 66.47353362]\n"
          ],
          "name": "stdout"
        }
      ]
    },
    {
      "cell_type": "code",
      "metadata": {
        "colab": {
          "base_uri": "https://localhost:8080/",
          "height": 265
        },
        "id": "9-cylhEZXYIk",
        "outputId": "5aa825ea-bf63-499e-c3dc-e0bddc562fb6"
      },
      "source": [
        "import matplotlib.pyplot as plt\n",
        "plt.scatter(x,y,color='black') # 학습데이터와 y값을 산포도를 그린다.\n",
        "# 학습 데이터를 입력으로하여 예측값을 계산한다\n",
        "y_pred=regr.predict(x)\n",
        "\n",
        "# 학습 데이터와 예측값으로 선 그래프로 그린다.\n",
        "# 계산된 기울기와 y 절편으로 가지는 직선이 그려진다.\n",
        "plt.plot(x,y_pred,color='blue',linewidth=3)\n",
        "# 선형회귀모델이 만든 예측 그래프 완성\n",
        "plt.show()"
      ],
      "execution_count": null,
      "outputs": [
        {
          "output_type": "display_data",
          "data": {
            "image/png": "[encoded data removed]",
            "text/plain": [
              "<Figure size 432x288 with 1 Axes>"
            ]
          },
          "metadata": {
            "tags": [],
            "needs_background": "light"
          }
        }
      ]
    }
  ]
}